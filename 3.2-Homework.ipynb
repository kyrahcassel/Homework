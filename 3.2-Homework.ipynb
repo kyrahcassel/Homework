{
 "cells": [
  {
   "cell_type": "code",
   "execution_count": 43,
   "metadata": {},
   "outputs": [
    {
     "name": "stdout",
     "output_type": "stream",
     "text": [
      "['abc', 32, True, 32.5, b'hello']\n",
      "['abc', 32, True, 32.5, b'hello', 'blue']\n",
      "size of thea list =  5\n",
      "['abc', 32, True]\n",
      "['Cayenne', 'Ghost', 'Jalapeno', 'Reaper', 'Serrano']\n",
      "['abc', 32, True, 32.5, b'hello', 'abc', 32, True, 'Cayenne', 'Ghost', 'Jalapeno', 'Reaper', 'Serrano']\n"
     ]
    }
   ],
   "source": [
    "list = [\"abc\", 32, True, 32.5, b\"hello\"]\n",
    "print(list)\n",
    "\n",
    "list = [\"abc\", 32, True, 32.5, b\"hello\"]\n",
    "list.insert(25, \"blue\")\n",
    "print(list)\n",
    "\n",
    "list = [\"abc\", 32, True, 32.5, b\"hello\"]\n",
    "listlength = len(list)\n",
    "print(\"size of thea list = \", listlength)\n",
    "\n",
    "list1 = list[0:3]\n",
    "print(list1)\n",
    "\n",
    "list.extend(list1)\n",
    "\n",
    "simList = [\"Jalapeno\", \"Serrano\", \"Cayenne\", \"Ghost\", \"Reaper\"]\n",
    "simList.sort()\n",
    "print(simList)\n",
    "\n",
    "randomlist = simList.copy()\n",
    "randomlist = list + simList\n",
    "print(randomlist)\n",
    "\n",
    "\n"
   ]
  },
  {
   "cell_type": "code",
   "execution_count": 44,
   "metadata": {},
   "outputs": [
    {
     "name": "stdout",
     "output_type": "stream",
     "text": [
      "1990\n",
      "[1986, 1986, 1986, 1990, 1990, 1990, 2014, 2014, 2014, 2019, 2019, 2019, 2021, 2021, 2021]\n",
      "2019 2021 1986 1990\n",
      "50\n",
      "(1986, 1990, 2014, 2019, 2021, 1986, 1990, 2014, 2019, 2021, 1986, 1990, 2014, 2019, 2021, 2019, 2021, 1986, 1990)\n"
     ]
    }
   ],
   "source": [
    "tup1 = 1986, 1990, 2014, 2019, 2021\n",
    "tup2 = tup1 * 3\n",
    "print(tup2[11])\n",
    "print(sorted(tup2))\n",
    "\n",
    "tup3 = tup2[3:7]\n",
    "(Ant, Had, Bro, Brook) = tup3\n",
    "print(Ant, Had, Bro, Brook)\n",
    "\n",
    "tup4 = (50)\n",
    "print(tup4)\n",
    "\n",
    "tup5 = tup2 + tup3\n",
    "print(tup5)\n",
    "\n",
    "\n",
    "\n"
   ]
  },
  {
   "cell_type": "code",
   "execution_count": 45,
   "metadata": {},
   "outputs": [
    {
     "name": "stdout",
     "output_type": "stream",
     "text": [
      "{'goats', 'pigs', 'chickens'}\n",
      "{'apple', 'kiwi', 'goats', 'pigs', 'halos', 'chickens'}\n",
      "{'apple', 'kiwi', 'goats', 'pigs', 'halos', 'brakes', 'chickens'}\n",
      "{'bikes', 'bubbles'}\n",
      "set()\n",
      "{'apple', 'kiwi', 'goats', 'chickens', 'pigs', 'halos', 'bikes', 'brakes'}\n"
     ]
    }
   ],
   "source": [
    "myset = {\"chickens\", \"pigs\", \"goats\"}\n",
    "print(myset)\n",
    "\n",
    "fruits = {\"apple\", \"kiwi\", \"halos\"}\n",
    "myset.update(fruits)\n",
    "print(myset)\n",
    "\n",
    "myset.add(\"brakes\")\n",
    "print(myset)\n",
    "\n",
    "odditems = {\"bubbles\", \"bikes\", \"movies\"}\n",
    "myset3 = myset.union(odditems)\n",
    "\n",
    "odditems.pop()\n",
    "print(odditems)\n",
    "\n",
    "myset.clear()\n",
    "print(myset)\n",
    "\n",
    "myset3.discard(\"bubbles\")\n",
    "myset3.remove(\"movies\")\n",
    "print(myset3)\n",
    "\n",
    "\n",
    "\n",
    "\n",
    "\n"
   ]
  },
  {
   "cell_type": "code",
   "execution_count": 46,
   "metadata": {},
   "outputs": [
    {
     "name": "stdout",
     "output_type": "stream",
     "text": [
      "{'name': 'Hadley', 'age': 9, 'favorite colors': ('blue', 'Teal'), 'height': 47.5, 'female': True}\n",
      "Hadley\n",
      "{'name': 'Kyrah', 'age': 9, 'favorite colors': ('blue', 'Teal'), 'height': 47.5, 'female': True}\n",
      "{'name': 'Kyrah', 'age': 9, 'favorite colors': ('blue', 'Teal'), 'height': 47.5, 'female': True, 'favorite color': 'green'}\n",
      "{'name': 'Kyrah', 'age': 9, 'favorite colors': ('blue', 'Teal'), 'height': 47.5, 'female': True, 'favorite color': 'green', 'kids': ['Brody', 'Brooke']}\n",
      "dict_keys(['name', 'age', 'favorite colors', 'height', 'female', 'favorite color', 'kids'])\n",
      "dict_values(['Kyrah', 9, ('blue', 'Teal'), 47.5, True, 'green', ['Brody', 'Brooke']])\n",
      "{'age': 9, 'favorite colors': ('blue', 'Teal'), 'height': 47.5, 'female': True, 'favorite color': 'green', 'kids': ['Brody', 'Brooke']}\n",
      "{}\n"
     ]
    }
   ],
   "source": [
    "thisdict = {\n",
    "    \"name\": \"Hadley\",\n",
    "    \"age\": 9,\n",
    "    \"favorite colors\": (\"blue\", \"Teal\"),\n",
    "    \"height\": 47.5,\n",
    "    \"female\": True\n",
    "}\n",
    "print(thisdict)\n",
    "\n",
    "print(thisdict[\"name\"])\n",
    "\n",
    "thisdict[\"name\"] = \"Kyrah\"\n",
    "print(thisdict)\n",
    "\n",
    "thisdict[\"favorite color\"] = \"green\"\n",
    "print(thisdict)\n",
    "\n",
    "thisdict[\"kids\"] = [\"Brody\", \"Brooke\"]\n",
    "print(thisdict)\n",
    "\n",
    "print(thisdict.keys())\n",
    "\n",
    "print(thisdict.values())\n",
    "seconddict = thisdict.copy()\n",
    "seconddict.pop(\"name\")\n",
    "print(seconddict)\n",
    "\n",
    "seconddict.clear()\n",
    "print(seconddict)\n",
    "\n",
    "\n",
    "\n"
   ]
  }
 ],
 "metadata": {
  "kernelspec": {
   "display_name": "Python 3",
   "language": "python",
   "name": "python3"
  },
  "language_info": {
   "codemirror_mode": {
    "name": "ipython",
    "version": 3
   },
   "file_extension": ".py",
   "mimetype": "text/x-python",
   "name": "python",
   "nbconvert_exporter": "python",
   "pygments_lexer": "ipython3",
   "version": "3.11.1"
  },
  "orig_nbformat": 4,
  "vscode": {
   "interpreter": {
    "hash": "c770c9f30fe147352c4be42b51249e86c5aa434fceee9946c1be77b3d9d96b19"
   }
  }
 },
 "nbformat": 4,
 "nbformat_minor": 2
}
