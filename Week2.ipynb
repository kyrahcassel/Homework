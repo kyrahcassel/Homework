{
 "cells": [
  {
   "attachments": {},
   "cell_type": "markdown",
   "metadata": {},
   "source": [
    "<!-- Heading -->\n",
    "# Week 2 Homework\n",
    "<!-- OL -->\n",
    "1.\tPython is considered an object-oriented programming language. \n",
    "2. \tNatural language is the ability of a computer language to understand human language as it is spoken and written. \n",
    "3.\tPython is a formal programming language. \n",
    "4.\tAlgorithms are a set of rules followed in calculations by a computer.\n",
    "5.\tPython is easy to use and can run on all platforms.\n",
    "6.\tA Semantic error or logic error is a bug in a program that causes it to operate incorrectly.\n",
    "7.\tAssume nothing. Check your variable and retrace your code.\n"
   ]
  },
  {
   "cell_type": "code",
   "execution_count": null,
   "metadata": {
    "vscode": {
     "languageId": "plaintext"
    }
   },
   "outputs": [],
   "source": [
    "print(\"Hello, World!\")"
   ]
  }
 ],
 "metadata": {
  "language_info": {
   "name": "python"
  },
  "orig_nbformat": 4
 },
 "nbformat": 4,
 "nbformat_minor": 2
}
