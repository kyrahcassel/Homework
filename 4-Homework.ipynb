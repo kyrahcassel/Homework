{
 "cells": [
  {
   "attachments": {},
   "cell_type": "markdown",
   "metadata": {},
   "source": [
    "<!-- Heading -->\n",
    "# 4 Homework\n",
    "<!-- OL -->\n",
    "\n",
    "1.\tWhat does one need to do to use a module?\n",
    "Use – Import welcome- to import it into your program.\n",
    "\n",
    "2.\tName a Module (not the DateTime Nodule) we looked at and write a line or 2 of code as an example using this module.\n",
    "Import datetime as dt\n",
    "A = dt.datetime.now()\n",
    "Print(“current Date and Time…”, a)\n",
    "\n",
    "3.\tWhat is a benefit of using Exception handling?\n",
    "Remove/separate error handling code from main code.\n",
    "\n",
    "4.\tNumPy arrays are like what Python data type?\n",
    "List\n",
    "5.\tWhat is one of the main benefits of using NumPy arrays.\n",
    "Less memory, Fast, convenient\n",
    "\n",
    "6.\tWhat is one of the main requirements about the 'dtype' of NumPy arrays?\n",
    "A data type object implements the fixed size of memory corresponding to an array.\n",
    "\n",
    "7.\tOf the 10 uses of NumPy, name 2.\n",
    "Searching, sorting and counting. Linear algebra.\n",
    "\n",
    "8.\tName one of the other libraries we'll use with NumPy?\n",
    "Pandas\n",
    "\n",
    "9.\tWhat is the shape of NumPy arrays?\n",
    "Shape = rows\n",
    "10.\tWhat is a Tensor?\n",
    "An array with 3+ dimensions\n",
    "\n",
    "11.\tName a reason why it's better using NumPy for Data Analysis than using a Python List?\n",
    "NumPy is faster and more compact than Python lists.\n",
    "\n",
    "12.\tWhen creating an \"empty\" array, where do the elements come from?\n",
    "The initial content is random and depends on the state of memory. \n",
    "\n",
    "\n"
   ]
  },
  {
   "cell_type": "code",
   "execution_count": 7,
   "metadata": {},
   "outputs": [
    {
     "name": "stdout",
     "output_type": "stream",
     "text": [
      "Current Date and Time ... 2023-02-19 20:14:00.182015\n",
      "Month ... February\n"
     ]
    }
   ],
   "source": [
    "# Use the DateTime module to get Current Date and Time, and save it to a variable.\n",
    "#  Then extract just the Full month name form that variable.\n",
    "\n",
    "import datetime as dt\n",
    "\n",
    "# Get Current Date and Time\n",
    "a = dt.datetime.now()\n",
    "print(\"Current Date and Time ...\", a)\n",
    "\n",
    "import datetime\n",
    "Today = datetime.datetime.now()\n",
    "\n",
    "print(\"Month ...\", Today.strftime(\"%B\"))\n"
   ]
  },
  {
   "cell_type": "code",
   "execution_count": 35,
   "metadata": {},
   "outputs": [
    {
     "name": "stdout",
     "output_type": "stream",
     "text": [
      "Hi, Kyrah ! Happy Sunday !\n"
     ]
    }
   ],
   "source": [
    "# Write a simple function that takes 2 parameters -- a first name and a day name.\n",
    "\n",
    "#Set a default value for the day name of Sunday.    \n",
    "#Have the function print out a greeting \n",
    "# -- using the parameters \n",
    "# -- that says something like \"Hi first-name! Happy day-name!\". -\n",
    "# --Remember to use the variables in the greeting to replace first-name and day-name.\n",
    "#Invoke this function with 2 variables.\n",
    "#Invoke this function with 1 variable only.\n",
    "\n",
    "def nameday(name,day = \"Sunday\"):\n",
    "    print(\"Hi,\", name,\"! Happy\", day, \"!\")\n",
    "    \n",
    "nameday(\"Kyrah\")\n"
   ]
  },
  {
   "cell_type": "code",
   "execution_count": 62,
   "metadata": {},
   "outputs": [
    {
     "name": "stdout",
     "output_type": "stream",
     "text": [
      "newShape1 ...\n",
      " [[2 3 4 5]\n",
      " [1 2 3 4]\n",
      " [2 3 4 5]]\n",
      "\n",
      "newShape3 ...\n",
      " [[[2 3]\n",
      "  [4 5]\n",
      "  [1 2]]\n",
      "\n",
      " [[3 4]\n",
      "  [2 3]\n",
      "  [4 5]]]\n"
     ]
    }
   ],
   "source": [
    "# Import NumPy, use one of the NumPy methods and create an array with a shape of ... (2, 3, 2).\n",
    "#  You can use the reshape method -- .reshape()\n",
    "\n",
    "import numpy as np\n",
    "aArray = np.array(([2,3,4,5], [1,2,3,4], [2,3,4,5]))\n",
    "print(\"newShape1 ...\\n\", aArray)\n",
    "\n",
    "newShape3 = aArray.reshape(2, 3, 2)\n",
    "print(\"\\nnewShape3 ...\\n\", newShape3)\n"
   ]
  },
  {
   "cell_type": "code",
   "execution_count": 68,
   "metadata": {},
   "outputs": [
    {
     "name": "stdout",
     "output_type": "stream",
     "text": [
      "[ 0.  4.  8. 12. 16. 20.]\n"
     ]
    }
   ],
   "source": [
    "# Use NumPy .linspace() to create an array with 6 linearly spaced values between 0 and 20\n",
    "\n",
    "arrayspace = np.linspace(0,20, 6)\n",
    "print(arrayspace)"
   ]
  },
  {
   "cell_type": "code",
   "execution_count": 71,
   "metadata": {},
   "outputs": [],
   "source": [
    "#Make a Deep Copy of the above array you created.\n",
    "\n",
    "import copy\n",
    "arrayspaced = copy.deepcopy(arrayspace)"
   ]
  },
  {
   "attachments": {},
   "cell_type": "markdown",
   "metadata": {},
   "source": [
    "What are 2 reasons we use NumPy arrays over Python Lists\n",
    "NumPy uses much less memory to store data, and its faster."
   ]
  }
 ],
 "metadata": {
  "kernelspec": {
   "display_name": "Python 3",
   "language": "python",
   "name": "python3"
  },
  "language_info": {
   "codemirror_mode": {
    "name": "ipython",
    "version": 3
   },
   "file_extension": ".py",
   "mimetype": "text/x-python",
   "name": "python",
   "nbconvert_exporter": "python",
   "pygments_lexer": "ipython3",
   "version": "3.11.1"
  },
  "orig_nbformat": 4,
  "vscode": {
   "interpreter": {
    "hash": "c770c9f30fe147352c4be42b51249e86c5aa434fceee9946c1be77b3d9d96b19"
   }
  }
 },
 "nbformat": 4,
 "nbformat_minor": 2
}
