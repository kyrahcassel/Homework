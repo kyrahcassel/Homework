{
 "cells": [
  {
   "attachments": {},
   "cell_type": "markdown",
   "metadata": {},
   "source": [
    "<!-- Heading -->\n",
    "# 3.1 Homework\n",
    "<!-- OL -->\n",
    "1.\tA series of steps to solve a problem at hand. \n",
    "2. \tPython is easy to use and understand, it can be run all platforms, plus it has many libraries available.   \n",
    "3.\tPython is a formal programming language. \n",
    "4.\tNumbers or special characters such as !@#$%^.\n",
    "5.\tA logic error.\n",
    "6.\tComplexity is the enemy of efficiency.\n",
    "7.\tFalse, None, True, And, As.\n",
    "\n",
    "\n",
    "Why you need to learn Python in 2022\n",
    "\n",
    "https://www.kdnuggets.com/2022/04/need-learn-python-2022.html\n",
    "\n"
   ]
  },
  {
   "cell_type": "code",
   "execution_count": 10,
   "metadata": {},
   "outputs": [
    {
     "data": {
      "text/plain": [
       "'\\nKyrah\\nAnything SPICY\\nRemote work that allows me to buy all the farm animals I want\\n'"
      ]
     },
     "execution_count": 10,
     "metadata": {},
     "output_type": "execute_result"
    }
   ],
   "source": [
    "\"\"\"\n",
    "Kyrah\n",
    "Anything SPICY\n",
    "Remote work that allows me to buy all the farm animals I want\n",
    "\"\"\""
   ]
  },
  {
   "cell_type": "code",
   "execution_count": 27,
   "metadata": {},
   "outputs": [
    {
     "name": "stdout",
     "output_type": "stream",
     "text": [
      "the length of a is... 12\n",
      "element 4 =  d\n",
      "Learning Data Analytics and Python is Great!\n",
      "kyrah 32 61 inches\n",
      "Hi my name is kyrah,I am 61 inches and 32 years old today.\n",
      "32.0\n"
     ]
    }
   ],
   "source": [
    "a = \"Good Morning\"\n",
    "b = 22\n",
    "c = [\"blue\", \"green\", \"sage\"]\n",
    "d = range(9)\n",
    "e = False\n",
    "print(\"the length of a is...\", len(a))\n",
    "print(\"element 4 = \", a[3])\n",
    "\n",
    "savvy = \"Learning Data Analytics and Python is Awesome!\"\n",
    "savvy[5:24]\n",
    "print(savvy.replace(\"Awesome\", \"Great\"))\n",
    "\n",
    "name, age, length = \"kyrah\", \"32\", \"61 inches\"\n",
    "print(name, age, length)\n",
    "miniBio = (\n",
    "    f\"Hi my name is {name},\"\n",
    "    f\"I am {length}\"\n",
    "    f\" and {age} years old today.\"\n",
    ")\n",
    "print(miniBio)\n",
    "\n",
    "age = float(32)\n",
    "print(age)\n",
    "\n",
    "\n",
    "\n",
    "\n",
    "\n",
    "\n"
   ]
  }
 ],
 "metadata": {
  "kernelspec": {
   "display_name": "Python 3",
   "language": "python",
   "name": "python3"
  },
  "language_info": {
   "codemirror_mode": {
    "name": "ipython",
    "version": 3
   },
   "file_extension": ".py",
   "mimetype": "text/x-python",
   "name": "python",
   "nbconvert_exporter": "python",
   "pygments_lexer": "ipython3",
   "version": "3.11.1"
  },
  "orig_nbformat": 4,
  "vscode": {
   "interpreter": {
    "hash": "c770c9f30fe147352c4be42b51249e86c5aa434fceee9946c1be77b3d9d96b19"
   }
  }
 },
 "nbformat": 4,
 "nbformat_minor": 2
}
